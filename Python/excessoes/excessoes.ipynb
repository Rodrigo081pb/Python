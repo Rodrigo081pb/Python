{
 "cells": [
  {
   "cell_type": "code",
   "execution_count": null,
   "metadata": {},
   "outputs": [],
   "source": [
    "# Try...except\n",
    "\n",
    "try: \n",
    "    # Código a ser executado\n",
    "except <funcao> as e:\n",
    "    # Se uma exceção for lançada no try, rode esse código, se não pule essa etapa\n",
    "\n",
    "    "
   ]
  },
  {
   "cell_type": "code",
   "execution_count": 6,
   "metadata": {},
   "outputs": [],
   "source": [
    "## Exemplo \n",
    "\n",
    "'''\n",
    "Você criou um código que lê um dicionário com as notas dos estudantes e quis retornar a lista de notas de um estudante.\n",
    "Caso o(a) estudante não esteja matriculado(a) na turma devemos tratar a exceção para aparecer a mensagem\n",
    "\"Estudante não matriculado\"\n",
    "'''\n",
    "\n",
    "notas = {\n",
    "        'João': [10.0,9.7,4.0],\n",
    "        'Rodrigo': [10.0,6.0,4.0],\n",
    "        'Renata': [4.0,3.0,4.0]\n",
    "        }"
   ]
  },
  {
   "cell_type": "code",
   "execution_count": null,
   "metadata": {},
   "outputs": [],
   "source": [
    "nome = input(\"Digite o nome do aluno: \")\n",
    "resultado = notas[nome]\n",
    "resultado"
   ]
  },
  {
   "cell_type": "code",
   "execution_count": 9,
   "metadata": {},
   "outputs": [
    {
     "name": "stdout",
     "output_type": "stream",
     "text": [
      "Estudante não encontrado\n"
     ]
    }
   ],
   "source": [
    "try:\n",
    "\n",
    "    nome = input(\"Digite o nome do aluno: \")\n",
    "    resultado = notas[nome]\n",
    "\n",
    "    print(\"Aluno encontrado\")\n",
    "\n",
    "except KeyError:\n",
    "    print(\"Estudante não encontrado\")\n",
    "    \n",
    "else:\n",
    "\n",
    "    resultado\n",
    "    \n",
    "finally:\n",
    "    print(\"Processo de consulta encerrado\")\n"
   ]
  }
 ],
 "metadata": {
  "kernelspec": {
   "display_name": "Python 3",
   "language": "python",
   "name": "python3"
  },
  "language_info": {
   "codemirror_mode": {
    "name": "ipython",
    "version": 3
   },
   "file_extension": ".py",
   "mimetype": "text/x-python",
   "name": "python",
   "nbconvert_exporter": "python",
   "pygments_lexer": "ipython3",
   "version": "3.12.7"
  }
 },
 "nbformat": 4,
 "nbformat_minor": 2
}
