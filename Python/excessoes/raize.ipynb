{
 "cells": [
  {
   "cell_type": "code",
   "execution_count": 1,
   "metadata": {},
   "outputs": [
    {
     "ename": "SyntaxError",
     "evalue": "unmatched ')' (1696432192.py, line 10)",
     "output_type": "error",
     "traceback": [
      "\u001b[1;36m  Cell \u001b[1;32mIn[1], line 10\u001b[1;36m\u001b[0m\n\u001b[1;33m    raise nomeDoErro)\u001b[0m\n\u001b[1;37m                    ^\u001b[0m\n\u001b[1;31mSyntaxError\u001b[0m\u001b[1;31m:\u001b[0m unmatched ')'\n"
     ]
    }
   ],
   "source": [
    "'''\n",
    "    Raise\n",
    "\n",
    "    Uma forma de trabalhar com as exceções em seu código, é criar \n",
    "    as suas próprias exceções para determinados comportamentos \n",
    "    que deseja em seu código\n",
    "\n",
    "'''\n",
    "\n",
    "raise nomeDoErro(\"Mensagem\")"
   ]
  },
  {
   "cell_type": "code",
   "execution_count": 14,
   "metadata": {},
   "outputs": [],
   "source": [
    "def media(lista: list=[0]) -> float:\n",
    "\n",
    "    '''\n",
    "\n",
    "    Função para calcular a média de notas passadas por uma lista\n",
    "\n",
    "    lista: list, defaut[0]\n",
    "    return = calculo: float\n",
    "    media calculada\n",
    "\n",
    "    '''\n",
    "\n",
    "    calculo = sum(lista) / len(lista)\n",
    "\n",
    "    if len(lista) > 4:\n",
    "        raise ValueError(\"Não pode ter mais de 4 notas\")\n",
    "    \n",
    "    return calculo\n"
   ]
  },
  {
   "cell_type": "code",
   "execution_count": 15,
   "metadata": {},
   "outputs": [
    {
     "name": "stdout",
     "output_type": "stream",
     "text": [
      "21.666666666666668\n",
      "FIM\n"
     ]
    }
   ],
   "source": [
    "try:\n",
    "    notas = [7,4,54]\n",
    "\n",
    "    resultado = media(notas)\n",
    "except TypeError:\n",
    "\n",
    "    print(\"Esse tipo está incorreto\")\n",
    "\n",
    "except ValueError as e:\n",
    "    print(e)\n",
    "\n",
    "else:\n",
    "    print(resultado)\n",
    "\n",
    "finally:\n",
    "    print(\"FIM\")\n"
   ]
  }
 ],
 "metadata": {
  "kernelspec": {
   "display_name": "Python 3",
   "language": "python",
   "name": "python3"
  },
  "language_info": {
   "codemirror_mode": {
    "name": "ipython",
    "version": 3
   },
   "file_extension": ".py",
   "mimetype": "text/x-python",
   "name": "python",
   "nbconvert_exporter": "python",
   "pygments_lexer": "ipython3",
   "version": "3.12.7"
  }
 },
 "nbformat": 4,
 "nbformat_minor": 2
}
