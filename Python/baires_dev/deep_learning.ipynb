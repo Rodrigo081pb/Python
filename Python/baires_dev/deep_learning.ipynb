{
 "cells": [
  {
   "cell_type": "code",
   "execution_count": 14,
   "metadata": {},
   "outputs": [],
   "source": [
    "import numpy\n",
    "import torch\n",
    "import torch.nn.functional as F\n",
    "import torchvision\n",
    "import matplotlib.pyplot as plt\n",
    "from time import time\n",
    "from torchvision import datasets, transforms\n",
    "from torch import nn, optim\n",
    "import torch.utils.data.dataloader\n",
    "\n",
    "# Definindo a conversão de imagem para tensor\n",
    "transform = transforms.ToTensor()\n",
    "\n",
    "# Carrega a parte de treino do dataset\n",
    "trainset = datasets.MNIST('./MNIST_data/', download=True, train=True, transform=transform)\n",
    "trainload = torch.utils.data.DataLoader(trainset, batch_size=64, shuffle=True)\n",
    "\n",
    "# Carrega a parte de validação\n",
    "valset = datasets.MNIST('./MNIST_data/', download=True, train=False, transform=transform)\n",
    "valloader = torch.utils.data.DataLoader(valset, batch_size=64, shuffle=True)\n"
   ]
  },
  {
   "cell_type": "code",
   "execution_count": 23,
   "metadata": {},
   "outputs": [
    {
     "data": {
      "text/plain": [
       "<matplotlib.image.AxesImage at 0x1aa154930e0>"
      ]
     },
     "execution_count": 23,
     "metadata": {},
     "output_type": "execute_result"
    },
    {
     "data": {
      "image/png": "[encoded data removed]",
      "text/plain": [
       "<Figure size 640x480 with 1 Axes>"
      ]
     },
     "metadata": {},
     "output_type": "display_data"
    }
   ],
   "source": [
    "dataiter = iter(trainload)\n",
    "imagens, etiquetas = next(dataiter)\n",
    "\n",
    "plt.imshow(imagens[0].numpy().squeeze(), cmap='gray_r')"
   ]
  },
  {
   "cell_type": "code",
   "execution_count": 24,
   "metadata": {},
   "outputs": [
    {
     "name": "stdout",
     "output_type": "stream",
     "text": [
      "torch.Size([1, 28, 28])\n",
      "torch.Size([])\n"
     ]
    }
   ],
   "source": [
    "print(imagens[0].shape) # Verificar as dimensões do tensor de cada imagem\n",
    "print(etiquetas[0].shape) # Para verificar as dimensões do tensor de cada etiqueta"
   ]
  },
  {
   "cell_type": "code",
   "execution_count": 25,
   "metadata": {},
   "outputs": [],
   "source": [
    "# Criando minha rede neural\n",
    "\n",
    "class Modelo(nn.Module):\n",
    "    def __init__(self):\n",
    "        super(Modelo, self).__init__()\n",
    "        self.linear1 = nn.Linear(28*28,128) # Camada de entrada, 784 neurônios que se ligan a 128\n",
    "        self.linear2 = nn.Linear(128, 64) # Camada interna 1, 128 neurônios que se ligam a 64\n",
    "        self.linear3 = nn.Linear(64,10) # Camada interna 2, 64 neurônios que se ligam a 10\n",
    "\n",
    "    # Função de ativação de camada\n",
    "    def forward(self, X):\n",
    "        X = F.relu(self.linear1(X)) \n",
    "        X = F.relu(self.linear2(X))\n",
    "        X = self.linear3(X)\n",
    "        return F.log_softmax(X, dim=1)"
   ]
  },
  {
   "cell_type": "code",
   "execution_count": 26,
   "metadata": {},
   "outputs": [],
   "source": [
    "# Otimizar a rede\n",
    "\n",
    "def treino(modelo, trainloader, device):\n",
    "\n",
    "    otimizador = optim.SGD(modelo.parameters(), lr= 0.1, momentum=0.5) # Define a pltc de atualização de pesos e das bias\n",
    "    inicio = time()\n",
    "\n",
    "    criterio = nn.NLLLoss() # Definindo o critério para calcular a perda\n",
    "    EPOCHS = 10 # Número de epochs que o algoritmo rodará\n",
    "    modelo.train()\n",
    "\n",
    "    for epoch in range(EPOCHS):\n",
    "        perda_acumulada = 0 \n",
    "\n",
    "        for imagens, etiquetas in trainloader:\n",
    "\n",
    "            imagens = imagens.view(imagens.shape[0], -1) # Convertendo as imagens para vetores de 28*28\n",
    "            otimizador.zero_grad() # Zerando os gradientes por conta do ciclo anterior\n",
    "\n",
    "            output = modelo(imagens.to(device))\n",
    "            perda_instantanea = criterio(output, etiquetas.to(device)) # Calculando a perda da epoch em questão\n",
    "\n",
    "            perda_instantanea.backward() # Back propagation a partir da perda\n",
    "\n",
    "            otimizador.step()  # Atualizando o pesos e as bias\n",
    "\n",
    "            perda_acumulada += perda_instantanea.item() # Atualizando a perda acumulada \n",
    "    else:\n",
    "        print(\"Eposh {} - Perda resultante: {}\".format(epoch+1, perda_acumulada/len(trainloader)))\n",
    "    print(\"\\n Tempo de Treino (em minutos) = \",(time()-inicio)/60)\n"
   ]
  },
  {
   "cell_type": "code",
   "execution_count": null,
   "metadata": {},
   "outputs": [],
   "source": [
    "def teste_validacao(modelo, valloader, device):\n",
    "    conta_corretas, todas_contas = 0,0\n",
    "\n",
    "    for imagens, etiquetas in valloader:\n",
    "        \n",
    "        for i in range(len(etiquetas)):\n",
    "        \n",
    "            img = imagens[i].view(1,784):\n",
    "        \n",
    "            # Desativar o autograd para acelerar a validação. \n",
    "\n",
    "            with torch.no_grad():\n",
    "                logps = modelo(img.to(device)) # Output do modelo em escala logaritmica\n",
    "\n",
    "            ps = torch. exp(logps) # Converte o output para escala normal = tensor\n",
    "\n",
    "            probab = list(ps.cpu().numpy()[0])\n",
    "            etiqueta_pred = probab.index(max(probab)) # Converte o tensor em um número\n",
    "            etiqueta_certa = etiquetas.numpy()[i]\n",
    "            if(etiqueta_certa == etiqueta_pred) # Compara a previsão com o valor correto\n",
    "                conta_corretas += 1\n",
    "            todas_contas += 1\n",
    "        \n",
    "        print(\" Total de imagens testadas = \", todas_contas)\n",
    "        print(\"\\n Precisão do modelo ={}%\".format(conta_corretas*100/todas_contas))\n"
   ]
  },
  {
   "cell_type": "code",
   "execution_count": 30,
   "metadata": {},
   "outputs": [
    {
     "name": "stdout",
     "output_type": "stream",
     "text": [
      "Equilatero\n"
     ]
    }
   ],
   "source": [
    "l1 = 5\n",
    "l2 = 5\n",
    "l3 = 5\n",
    "\n",
    "if (l1 == l2) and (l2 == l3):\n",
    "    print(\"Equilatero\")\n",
    "\n",
    "elif (l1 != l2) and (l2 != l3) and (l1 != l3):\n",
    "    print(\"Escaleno\")"
   ]
  }
 ],
 "metadata": {
  "kernelspec": {
   "display_name": "Python 3",
   "language": "python",
   "name": "python3"
  },
  "language_info": {
   "codemirror_mode": {
    "name": "ipython",
    "version": 3
   },
   "file_extension": ".py",
   "mimetype": "text/x-python",
   "name": "python",
   "nbconvert_exporter": "python",
   "pygments_lexer": "ipython3",
   "version": "3.12.7"
  }
 },
 "nbformat": 4,
 "nbformat_minor": 2
}
