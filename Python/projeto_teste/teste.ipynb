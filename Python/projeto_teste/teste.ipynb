{
 "cells": [
  {
   "cell_type": "code",
   "execution_count": 22,
   "metadata": {},
   "outputs": [],
   "source": [
    "import pandas as pd  # Manipulação de dados\n",
    "import openpyxl\n",
    "import numpy as np\n"
   ]
  },
  {
   "cell_type": "code",
   "execution_count": 23,
   "metadata": {},
   "outputs": [
    {
     "name": "stdout",
     "output_type": "stream",
     "text": [
      "Nova planilha pai criada com sucesso!\n"
     ]
    }
   ],
   "source": [
    "\n",
    "# Criar nova planilha pai com dados fictícios\n",
    "data_pai = {\n",
    "    'ID': range(201, 301),  # Continuando a numeração dos IDs\n",
    "    'Produto': np.random.choice(['Televisão', 'Smartphone', 'Geladeira', 'Fogão', 'Ar Condicionado'], 100),\n",
    "    'Data_Venda': pd.date_range(start='2021-07-01', periods=100, freq='D'),\n",
    "    'Quantidade': np.random.randint(1, 30, 100),\n",
    "    'Nome': np.random.choice(['Kauã', 'Lucas', 'Mariana', 'Tatiane', 'Roberto'], 100),\n",
    "    'Idade': np.random.randint(25, 70, 100),\n",
    "    'Cidade': np.random.choice(['São Paulo', 'Rio de Janeiro', 'Belo Horizonte', 'Curitiba', 'Salvador'], 100)\n",
    "}\n",
    "\n",
    "# Converter os dados para um DataFrame\n",
    "df_nova_planilha_pai = pd.DataFrame(data_pai)\n",
    "\n",
    "# Salvar a nova planilha em um arquivo Excel\n",
    "df_nova_planilha_pai.to_excel('C:\\\\Users\\\\kaior\\\\Desktop\\\\Study_Python\\\\projeto_teste\\\\planilhas_testes\\\\pai_ids.xlsx', index=False)\n",
    "\n",
    "print(\"Nova planilha pai criada com sucesso!\")"
   ]
  },
  {
   "cell_type": "code",
   "execution_count": 28,
   "metadata": {},
   "outputs": [
    {
     "name": "stdout",
     "output_type": "stream",
     "text": [
      "Merge completo e salvo com sucesso!\n"
     ]
    }
   ],
   "source": [
    "import pandas as pd\n",
    "\n",
    "# Ler os arquivos Excel convertidos e a planilha pai\n",
    "df_planilha_clientes = pd.read_excel(f'C:\\\\Users\\\\kaior\\\\Desktop\\\\Study_Python\\\\projeto_teste\\\\planilhas_testes\\\\clientes.xlsx')\n",
    "df_planilha_produtos = pd.read_excel(f'C:\\\\Users\\\\kaior\\\\Desktop\\\\Study_Python\\\\projeto_teste\\\\planilhas_testes\\\\produtos.xlsx')\n",
    "df_planilha_daddy = pd.read_excel(f'C:\\\\Users\\\\kaior\\\\Desktop\\\\Study_Python\\\\projeto_teste\\\\planilhas_testes\\\\pai_ids.xlsx')\n",
    "\n",
    "# Tratamentos com merge\n",
    "df_planilha_produtos_ids = df_planilha_produtos[['Produto', 'ID', 'Data_Venda', 'Quantidade']]\n",
    "df_planilha_clientes_ids = df_planilha_clientes[['ID', 'Nome', 'Idade', 'Cidade']]\n",
    "\n",
    "\n",
    "# Aqui, você deve determinar qual coluna é a comum para realizar o merge\n",
    "# Exemplo: Se ambos têm uma coluna chamada \"Nome\", você pode fazer o merge por \"Nome\"\n",
    "df_result = pd.merge(df_planilha_produtos_ids, df_planilha_clientes_ids, left_on='Produto', right_on='Nome', how='inner')\n",
    "\n",
    "# Se houver mais colunas no pai, você pode especificar como desejado\n",
    "# Por exemplo, vamos supor que a planilha pai também tenha a coluna \"Nome\"\n",
    "df_result_final = pd.merge(df_result, df_planilha_daddy, on='Nome', how='inner')\n",
    "\n",
    "# Salvar o resultado final em um novo arquivo Excel\n",
    "df_result_final.to_excel('C:\\\\Users\\\\kaior\\\\Desktop\\\\Study_Python\\\\projeto_teste\\\\planilhas_testes\\\\produtos_clientes_merged_final.xlsx', index=False)\n",
    "\n",
    "print(\"Merge completo e salvo com sucesso!\")"
   ]
  }
 ],
 "metadata": {
  "kernelspec": {
   "display_name": "Python 3",
   "language": "python",
   "name": "python3"
  },
  "language_info": {
   "codemirror_mode": {
    "name": "ipython",
    "version": 3
   },
   "file_extension": ".py",
   "mimetype": "text/x-python",
   "name": "python",
   "nbconvert_exporter": "python",
   "pygments_lexer": "ipython3",
   "version": "3.12.5"
  }
 },
 "nbformat": 4,
 "nbformat_minor": 2
}
