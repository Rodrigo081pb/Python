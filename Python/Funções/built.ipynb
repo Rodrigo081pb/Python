{
 "cells": [
  {
   "cell_type": "code",
   "execution_count": 1,
   "metadata": {},
   "outputs": [
    {
     "data": {
      "text/plain": [
       "{'1° Trimestre:': 9.5, '2° Trimestre': 5.5, '3° Trimestre': 8.4}"
      ]
     },
     "execution_count": 1,
     "metadata": {},
     "output_type": "execute_result"
    }
   ],
   "source": [
    "# Exemplo escolar\n",
    "\n",
    "notas = {'1° Trimestre:':9.5,'2° Trimestre': 5.5, '3° Trimestre': 8.4}\n",
    "notas"
   ]
  },
  {
   "cell_type": "code",
   "execution_count": 2,
   "metadata": {},
   "outputs": [
    {
     "data": {
      "text/plain": [
       "23.4"
      ]
     },
     "execution_count": 2,
     "metadata": {},
     "output_type": "execute_result"
    }
   ],
   "source": [
    "soma = 0\n",
    "\n",
    "for nota in notas.values():\n",
    "    soma += nota\n",
    "\n",
    "soma\n"
   ]
  },
  {
   "cell_type": "code",
   "execution_count": 3,
   "metadata": {},
   "outputs": [
    {
     "data": {
      "text/plain": [
       "23.4"
      ]
     },
     "execution_count": 3,
     "metadata": {},
     "output_type": "execute_result"
    }
   ],
   "source": [
    "# Utilizando a sum\n",
    "\n",
    "somatorio = sum(notas.values())\n",
    "somatorio"
   ]
  },
  {
   "cell_type": "code",
   "execution_count": 5,
   "metadata": {},
   "outputs": [
    {
     "data": {
      "text/plain": [
       "3"
      ]
     },
     "execution_count": 5,
     "metadata": {},
     "output_type": "execute_result"
    }
   ],
   "source": [
    "# Usando a função embutida len()\n",
    "\n",
    "quantidade_notas = len(notas)\n",
    "quantidade_notas"
   ]
  },
  {
   "cell_type": "code",
   "execution_count": 7,
   "metadata": {},
   "outputs": [
    {
     "data": {
      "text/plain": [
       "7.8"
      ]
     },
     "execution_count": 7,
     "metadata": {},
     "output_type": "execute_result"
    }
   ],
   "source": [
    "# Calculando a média\n",
    "\n",
    "media = somatorio / quantidade_notas\n",
    "\n",
    "media"
   ]
  },
  {
   "cell_type": "code",
   "execution_count": 9,
   "metadata": {},
   "outputs": [
    {
     "data": {
      "text/plain": [
       "7.8"
      ]
     },
     "execution_count": 9,
     "metadata": {},
     "output_type": "execute_result"
    }
   ],
   "source": [
    "# Função round\n",
    "\n",
    "media = round(media,1)\n",
    "media"
   ]
  },
  {
   "cell_type": "code",
   "execution_count": null,
   "metadata": {},
   "outputs": [],
   "source": [
    "peso = float(input(\"Digite o peso, em quilogramas: \"))\n",
    "altura = float(input(\"Digite a altura, em metros: \"))\n",
    "\n",
    "imc = round(peso / pow(altura, 2), 2)\n",
    "\n",
    "print(f\"O IMC da pessoa é: {imc}\")"
   ]
  },
  {
   "cell_type": "code",
   "execution_count": 12,
   "metadata": {},
   "outputs": [
    {
     "name": "stdout",
     "output_type": "stream",
     "text": [
      "9.0\n",
      "6.666666666666667\n",
      "7.0\n"
     ]
    }
   ],
   "source": [
    "# Estou declarando uma função chamada média através do def que é utilizado para criar funções e não estou utilizando nenhum parâmetro\n",
    "\n",
    "def media():\n",
    "    calculo = (10 + 9 + 8) / 3\n",
    "    print(calculo)\n",
    "\n",
    "media()\n",
    "\n",
    "# Agora utilizando parâmetros\n",
    "\n",
    "def media(nota_1, nota_2, nota_3):\n",
    "    calculo = (nota_1 + nota_2 + nota_3)/3\n",
    "    print(calculo)\n",
    "\n",
    "media(9,5,6)\n",
    "\n",
    "nota1 = 8\n",
    "nota2 = 7\n",
    "nota3 = 6\n",
    "\n",
    "media(nota1, nota2, nota3)"
   ]
  },
  {
   "cell_type": "code",
   "execution_count": 17,
   "metadata": {},
   "outputs": [
    {
     "name": "stdout",
     "output_type": "stream",
     "text": [
      "8.375\n"
     ]
    }
   ],
   "source": [
    "# Notas do(a) estudante\n",
    "notas = [8.5, 9.0, 6.0, 10.0]\n",
    "\n",
    "def media(lista):\n",
    "    calculo = sum(lista) / len(lista)\n",
    "    print(calculo)\n",
    "\n",
    "resultado = media(notas)\n",
    "\n",
    "resultado"
   ]
  },
  {
   "cell_type": "code",
   "execution_count": 21,
   "metadata": {},
   "outputs": [
    {
     "name": "stdout",
     "output_type": "stream",
     "text": [
      "16\n"
     ]
    }
   ],
   "source": [
    "x = 7\n",
    "\n",
    "def soma():\n",
    "  y = 9\n",
    "  print(x + y)\n",
    "\n",
    "soma()\n"
   ]
  },
  {
   "cell_type": "code",
   "execution_count": 25,
   "metadata": {},
   "outputs": [
    {
     "data": {
      "text/plain": [
       "8.299999999999999"
      ]
     },
     "execution_count": 25,
     "metadata": {},
     "output_type": "execute_result"
    }
   ],
   "source": [
    "# Funções que retornam valores\n",
    "\n",
    "# Novamente utilizando o exemplo dos estudantes\n",
    "\n",
    "notas = [8.5,10,6.4]\n",
    "\n",
    "def media(lista):\n",
    "    calculo = sum(lista) / len(lista)\n",
    "    return calculo\n",
    "\n",
    "resultado = media(notas)\n",
    "\n",
    "resultado"
   ]
  },
  {
   "cell_type": "code",
   "execution_count": 31,
   "metadata": {},
   "outputs": [
    {
     "name": "stdout",
     "output_type": "stream",
     "text": [
      "O estudante atingiu uma média de 7.975 e foi aprovado\n"
     ]
    }
   ],
   "source": [
    "# Aprovado ou reprovado\n",
    "\n",
    "notas = [8.5,10,6.4,7]\n",
    "\n",
    "def boletim(lista):\n",
    "    media= sum(lista) / len(lista)\n",
    "\n",
    "    if media >= 6:\n",
    "        situacao = 'aprovado'\n",
    "    else:\n",
    "        situacao = 'fudeu'\n",
    "\n",
    "    return(media,situacao)\n",
    "\n",
    "resultado = boletim(notas)\n",
    "\n",
    "media, situacao = boletim(notas)\n",
    "\n",
    "print(f'O estudante atingiu uma média de {media} e foi {situacao}')\n"
   ]
  },
  {
   "cell_type": "code",
   "execution_count": null,
   "metadata": {},
   "outputs": [],
   "source": [
    "# Type Hint\n",
    "# O Type Hint é uma sintaxe utilizada no Python para indicar o tipo de dado esperado de um parâmetro ou retorno de função, auxiliando na legibilidade e manutenção do código. Podemos dizer, em poucas palavras, que ela é a dica de tipagem dos dados.\n",
    "\n",
    "# Exemplo\n",
    "\n",
    "# def <nome>(<param>: <tipo_param>) -> <tipo_retorno>:\n",
    "#   <instruções>\n",
    "#   return resultado\n",
    "\n",
    "# Trazendo casos reais \n",
    "\n",
    "# a nossa função recebe uma lista do tipo list e retorna uma variável do tipo float\n",
    "def media(lista: list) -> float:\n",
    "  calculo = sum(lista) / len(lista)\n",
    "  return calculo\n",
    "\n",
    "media()"
   ]
  },
  {
   "cell_type": "code",
   "execution_count": null,
   "metadata": {},
   "outputs": [],
   "source": [
    "# Default value\n",
    "# No Python, o Default Value é um valor padrão atribuído a um argumento de função que é utilizado caso nenhum valor seja passado pelo usuário.\n",
    "\n",
    "# Exemplo\n",
    "\n",
    "# <nome_variavel>: <tipo_variavel> = <valor_variavel>\n",
    "\n",
    "# a nossa função recebe uma lista do tipo list e retorna uma variável do tipo float\n",
    "# caso não recebe nenhum valor de parâmetro será passada uma lista com um único\n",
    "# elemento sendo ele zero\n",
    "def media(lista: list=[0]) -> float:\n",
    "  calculo = sum(lista) / len(lista)\n",
    "  return calculo\n",
    "\n",
    "media()"
   ]
  },
  {
   "cell_type": "code",
   "execution_count": null,
   "metadata": {},
   "outputs": [],
   "source": [
    "# Docstring\n",
    "\n",
    "# Por fim, temos o Docstring que é uma string literal usada para documentar módulo, função, classe ou método em Python. Ela é colocada como o primeiro item de definição e pode ser acessada usando a função help().\n",
    "\n",
    "# O Docstring deve descrever propósito, parâmetros, tipo de retorno e exceções levantadas pela função. É uma boa prática de programação utilizar Docstrings em seu código para facilitar a leitura, manutenção e compartilhamento do código com outras pessoas desenvolvedoras.\n",
    "\n",
    "# Exemplo\n",
    "\n",
    "# def <nome>(<param_1>, <param_2>, ..., <param_n>):\n",
    "#     ''' Texto documentando sua função...\n",
    "#     '''\n",
    "#   <instruções>\n",
    "#   return resultado\n",
    "\n",
    "def media(lista: list=[0]) -> float:\n",
    "  ''' Função para calcular a média de notas passadas por uma lista\n",
    "\n",
    "  lista: list, default [0]\n",
    "    Lista com as notas para calcular a média\n",
    "  return = calculo: float\n",
    "    Média calculada\n",
    "  '''\n",
    "  calculo = sum(lista) / len(lista)\n",
    "  return calculo"
   ]
  }
 ],
 "metadata": {
  "kernelspec": {
   "display_name": "Python 3",
   "language": "python",
   "name": "python3"
  },
  "language_info": {
   "codemirror_mode": {
    "name": "ipython",
    "version": 3
   },
   "file_extension": ".py",
   "mimetype": "text/x-python",
   "name": "python",
   "nbconvert_exporter": "python",
   "pygments_lexer": "ipython3",
   "version": "3.12.7"
  }
 },
 "nbformat": 4,
 "nbformat_minor": 2
}
