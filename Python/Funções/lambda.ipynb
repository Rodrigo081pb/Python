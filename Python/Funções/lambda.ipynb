{
 "cells": [
  {
   "cell_type": "code",
   "execution_count": 1,
   "metadata": {},
   "outputs": [
    {
     "data": {
      "text/plain": [
       "10.5"
      ]
     },
     "execution_count": 1,
     "metadata": {},
     "output_type": "execute_result"
    }
   ],
   "source": [
    "# Sem o lambda\n",
    "\n",
    "nota = float(input(\"Digite a nota do estudante: \"))\n",
    "\n",
    "def qualitativo(x):\n",
    "    return x + 0.5\n",
    "\n",
    "qualitativo(nota)"
   ]
  },
  {
   "cell_type": "code",
   "execution_count": 2,
   "metadata": {},
   "outputs": [
    {
     "data": {
      "text/plain": [
       "10.5"
      ]
     },
     "execution_count": 2,
     "metadata": {},
     "output_type": "execute_result"
    }
   ],
   "source": [
    "# Com o lambda\n",
    "\n",
    "nota = float(input(\"Digite a nota do estudante: \"))\n",
    "\n",
    "qualitativo = lambda x: x + 0.5\n",
    "\n",
    "qualitativo(nota)"
   ]
  },
  {
   "cell_type": "code",
   "execution_count": 5,
   "metadata": {},
   "outputs": [
    {
     "name": "stdout",
     "output_type": "stream",
     "text": [
      "O estudante atingiu uma média de 6.15\n"
     ]
    }
   ],
   "source": [
    "# Recebendo as notas e calculando a média ponderável\n",
    "\n",
    "N1 = float(input(\"Digite a nota do estudante: \"))\n",
    "N2 = float(input(\"Digite a nota do estudante: \"))\n",
    "N3 = float(input(\"Digite a nota do estudante: \"))\n",
    "\n",
    "media_p = lambda x,y,z:( x * 3 + y * 2 + z * 5 ) / 10\n",
    "\n",
    "media_e = media_p(N1,N2,N3)\n",
    "\n",
    "print(f'O estudante atingiu uma média de {media_e}')"
   ]
  }
 ],
 "metadata": {
  "kernelspec": {
   "display_name": "Python 3",
   "language": "python",
   "name": "python3"
  },
  "language_info": {
   "codemirror_mode": {
    "name": "ipython",
    "version": 3
   },
   "file_extension": ".py",
   "mimetype": "text/x-python",
   "name": "python",
   "nbconvert_exporter": "python",
   "pygments_lexer": "ipython3",
   "version": "3.12.7"
  }
 },
 "nbformat": 4,
 "nbformat_minor": 2
}
