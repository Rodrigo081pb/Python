{
 "cells": [
  {
   "cell_type": "code",
   "execution_count": 4,
   "metadata": {},
   "outputs": [],
   "source": [
    "# A função zip é uma função imbutida do python qu recebe um ou mais iteráveis (listas,string,dict, etc)\n"
   ]
  },
  {
   "cell_type": "code",
   "execution_count": 1,
   "metadata": {},
   "outputs": [],
   "source": [
    "objeto_zip = zip([5,8,10,15])"
   ]
  },
  {
   "cell_type": "code",
   "execution_count": 3,
   "metadata": {},
   "outputs": [
    {
     "data": {
      "text/plain": [
       "<zip at 0x24d37d403c0>"
      ]
     },
     "execution_count": 3,
     "metadata": {},
     "output_type": "execute_result"
    }
   ],
   "source": [
    "objeto_zip"
   ]
  },
  {
   "cell_type": "code",
   "execution_count": 7,
   "metadata": {},
   "outputs": [],
   "source": [
    "# list(objeto_zip)\n",
    "\n",
    "id = [5,8,10,15]\n",
    "\n",
    "nome = [\"Sofia\", \"Bernardo\",\"Viviane\",\"Ayrton\"]\n",
    "\n",
    "identidades = list(zip(id,nome))\n"
   ]
  },
  {
   "cell_type": "code",
   "execution_count": 8,
   "metadata": {},
   "outputs": [
    {
     "data": {
      "text/plain": [
       "[(5, 'Sofia'), (8, 'Bernardo'), (10, 'Viviane'), (15, 'Ayrton')]"
      ]
     },
     "execution_count": 8,
     "metadata": {},
     "output_type": "execute_result"
    }
   ],
   "source": [
    "identidades"
   ]
  },
  {
   "cell_type": "code",
   "execution_count": 11,
   "metadata": {},
   "outputs": [
    {
     "data": {
      "text/plain": [
       "[('Sofia', 15, '540-218-094-32'),\n",
       " ('Bernardo', 12, '523-248-094-35'),\n",
       " ('Viviane', 53, '546-214-104-32'),\n",
       " ('Ayrton', 48, '596-240-094-32'),\n",
       " ('Rodrigo', 54, '576-128-094-32'),\n",
       " ('Joyce', 106, '596-248-094-32')]"
      ]
     },
     "execution_count": 11,
     "metadata": {},
     "output_type": "execute_result"
    }
   ],
   "source": [
    "idades = [15,12,53,48,54,106]\n",
    "cpfs = [\n",
    "        \"540-218-094-32\",\n",
    "        \"523-248-094-35\",\n",
    "        \"546-214-104-32\",\n",
    "        \"596-240-094-32\",\n",
    "        \"576-128-094-32\",\n",
    "        \"596-248-094-32\"\n",
    "        ]\n",
    "\n",
    "nomes = [\"Sofia\", \"Bernardo\",\"Viviane\",\"Ayrton\",\"Rodrigo\",\"Joyce\"]\n",
    "\n",
    "identidades = list(zip(nomes,idades,cpfs))\n",
    "\n",
    "identidades"
   ]
  },
  {
   "cell_type": "code",
   "execution_count": 12,
   "metadata": {},
   "outputs": [
    {
     "name": "stdout",
     "output_type": "stream",
     "text": [
      "IDs =  ['J392', 'M890', 'J681', 'C325', 'A49']\n",
      "Nomes =  ['João', 'Maria', 'José', 'Claúdia', 'Ana']\n"
     ]
    }
   ],
   "source": [
    "# Processo reverso\n",
    "\n",
    "tupla_iteravel = [('J392', 'João'), ('M890', 'Maria'), ('J681', 'José'), ('C325', 'Claúdia'), ('A49', 'Ana')]\n",
    "ids, nomes  = zip(*tupla_iteravel)\n",
    "\n",
    "ids = list(ids)\n",
    "nomes = list(nomes)\n",
    "\n",
    "print(\"IDs = \", ids)\n",
    "print(\"Nomes = \", nomes)"
   ]
  }
 ],
 "metadata": {
  "kernelspec": {
   "display_name": "Python 3",
   "language": "python",
   "name": "python3"
  },
  "language_info": {
   "codemirror_mode": {
    "name": "ipython",
    "version": 3
   },
   "file_extension": ".py",
   "mimetype": "text/x-python",
   "name": "python",
   "nbconvert_exporter": "python",
   "pygments_lexer": "ipython3",
   "version": "3.12.7"
  }
 },
 "nbformat": 4,
 "nbformat_minor": 2
}
