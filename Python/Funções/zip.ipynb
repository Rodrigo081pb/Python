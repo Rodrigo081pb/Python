{
 "cells": [
  {
   "cell_type": "code",
   "execution_count": null,
   "metadata": {},
   "outputs": [
    {
     "name": "stdout",
     "output_type": "stream",
     "text": [
      "IDs =  ['J392', 'M890', 'J681', 'C325', 'A49']\n",
      "Nomes =  ['João', 'Maria', 'José', 'Claúdia', 'Ana']\n"
     ]
    }
   ],
   "source": [
    "# A função zip é uma função imbutida do python qu recebe um ou mais iteráveis (listas,string,dict, etc)\n",
    "\n",
    "objeto_zip = zip([5,8,10,15])\n",
    "objeto_zip\n",
    "\n",
    "# list(objeto_zip)\n",
    "\n",
    "id = [5,8,10,15]\n",
    "\n",
    "nome = [\"Sofia\", \"Bernardo\",\"Viviane\",\"Ayrton\"]\n",
    "\n",
    "identidades = list(zip(id,nome))\n",
    "\n",
    "idades = [15,12,53,48,54,106]\n",
    "cpfs = [\n",
    "        \"540-218-094-32\",\n",
    "        \"523-248-094-35\",\n",
    "        \"546-214-104-32\",\n",
    "        \"596-240-094-32\",\n",
    "        \"576-128-094-32\",\n",
    "        \"596-248-094-32\"\n",
    "        ]\n",
    "\n",
    "nomes = [\"Sofia\", \"Bernardo\",\"Viviane\",\"Ayrton\",\"Rodrigo\",\"Joyce\"]\n",
    "\n",
    "identidades = list(zip(nomes,idades,cpfs))\n",
    "\n",
    "# Processo reverso\n",
    "\n",
    "tupla_iteravel = [('J392', 'João'), ('M890', 'Maria'), ('J681', 'José'), ('C325', 'Claúdia'), ('A49', 'Ana')]\n",
    "ids, nomes  = zip(*tupla_iteravel)\n",
    "\n",
    "ids = list(ids)\n",
    "nomes = list(nomes)\n",
    "\n",
    "print(\"IDs = \", ids)\n",
    "print(\"Nomes = \", nomes)"
   ]
  },
  {
   "cell_type": "code",
   "execution_count": 7,
   "metadata": {},
   "outputs": [
    {
     "name": "stdout",
     "output_type": "stream",
     "text": [
      "Daniel é gay\n"
     ]
    }
   ],
   "source": [
    "n1 = 10\n",
    "n2 = 10\n",
    "\n",
    "soma = n1 + n2\n",
    "\n",
    "if soma == 20:\n",
    "    print(\"Daniel é gay\")\n",
    "else:\n",
    "    print(\"Daniel é homem\")"
   ]
  }
 ],
 "metadata": {
  "kernelspec": {
   "display_name": "Python 3",
   "language": "python",
   "name": "python3"
  },
  "language_info": {
   "codemirror_mode": {
    "name": "ipython",
    "version": 3
   },
   "file_extension": ".py",
   "mimetype": "text/x-python",
   "name": "python",
   "nbconvert_exporter": "python",
   "pygments_lexer": "ipython3",
   "version": "3.12.7"
  }
 },
 "nbformat": 4,
 "nbformat_minor": 2
}
