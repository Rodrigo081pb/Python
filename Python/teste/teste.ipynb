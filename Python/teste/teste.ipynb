{
 "cells": [
  {
   "cell_type": "code",
   "execution_count": 7,
   "metadata": {},
   "outputs": [
    {
     "name": "stdout",
     "output_type": "stream",
     "text": [
      "Nenhum texto encontrado, aplicando OCR...\n",
      "Erro ao realizar OCR no PDF: Unable to get page count. Is poppler installed and in PATH?\n",
      "Não foi possível extrair texto do PDF.\n"
     ]
    }
   ],
   "source": [
    "import pdfplumber\n",
    "import pytesseract\n",
    "from pdf2image import convert_from_path\n",
    "from PIL import Image\n",
    "\n",
    "# Função para extrair texto diretamente do PDF\n",
    "def extrair_texto_pdf(pdf_path):\n",
    "    try:\n",
    "        with pdfplumber.open(pdf_path) as pdf:\n",
    "            texto_extraido = \"\"\n",
    "            for pagina_num, pagina in enumerate(pdf.pages, start=1):\n",
    "                texto = pagina.extract_text()\n",
    "                if texto:\n",
    "                    texto_extraido += f\"=== Página {pagina_num} ===\\n{texto}\\n\\n\"\n",
    "            return texto_extraido.strip()  # Retorna o texto extraído\n",
    "    except Exception as e:\n",
    "        print(f\"Erro ao tentar extrair texto do PDF: {e}\")\n",
    "        return None\n",
    "\n",
    "# Função para realizar OCR em PDFs que não têm texto extraído diretamente\n",
    "def aplicar_ocr_pdf(pdf_path):\n",
    "    try:\n",
    "        imagens = convert_from_path(pdf_path)\n",
    "        texto_extraido = \"\"\n",
    "        for i, imagem in enumerate(imagens):\n",
    "            texto = pytesseract.image_to_string(imagem, lang=\"por\")  # OCR com suporte para português\n",
    "            texto_extraido += f\"=== Página {i + 1} ===\\n{texto}\\n\\n\"\n",
    "        return texto_extraido.strip()  # Retorna o texto extraído\n",
    "    except Exception as e:\n",
    "        print(f\"Erro ao realizar OCR no PDF: {e}\")\n",
    "        return None\n",
    "\n",
    "# Função principal: PDF para TXT\n",
    "def pdf_para_txt_com_ocr(pdf_path, txt_path):\n",
    "    texto = extrair_texto_pdf(pdf_path)  # Primeiro tenta extrair texto diretamente\n",
    "    if not texto:  # Se não encontrar texto, aplica OCR\n",
    "        print(\"Nenhum texto encontrado, aplicando OCR...\")\n",
    "        texto = aplicar_ocr_pdf(pdf_path)\n",
    "    \n",
    "    if texto:\n",
    "        with open(txt_path, 'w', encoding='utf-8') as f:\n",
    "            f.write(texto)\n",
    "        print(f\"Texto extraído e salvo em: {txt_path}\")\n",
    "    else:\n",
    "        print(\"Não foi possível extrair texto do PDF.\")\n",
    "\n",
    "# Caminhos dos arquivos\n",
    "pdf_path = \"certificado.pdf\"  # Substitua pelo caminho do seu PDF\n",
    "txt_path = \"saida.txt\"        # Nome do arquivo TXT de saída\n",
    "\n",
    "# Executar a função\n",
    "pdf_para_txt_com_ocr(pdf_path, txt_path)\n"
   ]
  }
 ],
 "metadata": {
  "kernelspec": {
   "display_name": "Python 3",
   "language": "python",
   "name": "python3"
  },
  "language_info": {
   "codemirror_mode": {
    "name": "ipython",
    "version": 3
   },
   "file_extension": ".py",
   "mimetype": "text/x-python",
   "name": "python",
   "nbconvert_exporter": "python",
   "pygments_lexer": "ipython3",
   "version": "3.12.7"
  }
 },
 "nbformat": 4,
 "nbformat_minor": 2
}
