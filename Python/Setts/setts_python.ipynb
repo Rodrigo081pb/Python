{
 "cells": [
  {
   "cell_type": "code",
   "execution_count": 34,
   "metadata": {},
   "outputs": [
    {
     "name": "stdout",
     "output_type": "stream",
     "text": [
      "{'Harley', 'Yamaha', 'Honda', 'Kawasaki'}\n"
     ]
    }
   ],
   "source": [
    "marca_motos = {'Honda','Kawasaki','Harley','Yamaha'}\n",
    "\n",
    "print(marca_motos)"
   ]
  },
  {
   "cell_type": "code",
   "execution_count": 13,
   "metadata": {},
   "outputs": [
    {
     "name": "stdout",
     "output_type": "stream",
     "text": [
      "{34000.05, True, 'Honda', '2024'}\n"
     ]
    }
   ],
   "source": [
    "# Sets com outros elementos \n",
    "\n",
    "# os setts não são ordenados\n",
    "elementos = {'2024','Honda',34000.05,True}\n",
    "\n",
    "print(elementos)"
   ]
  },
  {
   "cell_type": "code",
   "execution_count": 14,
   "metadata": {},
   "outputs": [
    {
     "name": "stdout",
     "output_type": "stream",
     "text": [
      "Harley\n",
      "Yamaha\n",
      "Honda\n",
      "Kawasaki\n"
     ]
    }
   ],
   "source": [
    "# Para mapear\n",
    "\n",
    "for i in marca_motos:\n",
    "    print(i)"
   ]
  },
  {
   "cell_type": "code",
   "execution_count": 22,
   "metadata": {},
   "outputs": [
    {
     "name": "stdout",
     "output_type": "stream",
     "text": [
      "['Front-end', 'Back-end', 'Mobile', 'UX Design', 'UI', 'Dev Mobile', 'Data Science']\n",
      "7\n",
      "Nova Trilha:{'UI', 'Back-end', 'UX Design', 'Data Science', 'Front-end', 'Dev Mobile', 'Mobile'}\n"
     ]
    },
    {
     "data": {
      "text/plain": [
       "7"
      ]
     },
     "execution_count": 22,
     "metadata": {},
     "output_type": "execute_result"
    }
   ],
   "source": [
    "# Utilizando listas e a função set()\n",
    "\n",
    "lista_trilhas = ['Front-end','Back-end','Mobile','UX Design','UI','Dev Mobile','Data Science']\n",
    "\n",
    "print(lista_trilhas)\n",
    "\n",
    "# Percebe que ele é simplismente é bagunçado\n",
    "\n",
    "# Utilizando a função Len() para verificar a quantidade de elementos\n",
    "\n",
    "print(len(lista_trilhas))\n",
    "\n",
    "nova_trilha = set(lista_trilhas)\n",
    "\n",
    "print(f'Nova Trilha:{nova_trilha}')\n",
    "\n",
    "len(nova_trilha)\n"
   ]
  },
  {
   "cell_type": "code",
   "execution_count": 30,
   "metadata": {},
   "outputs": [],
   "source": [
    "# Funções de conjuntos no python]\n",
    "\n",
    "# Inicialmente teremos que criar alguns setts\n",
    "\n",
    "acessorios_honda = {'Painel Multimidia','Rodas Cromadas','Proteção contra linhas'}\n",
    "\n",
    "acessorios_kawasaki = {'Painel Multimidia','Rodas de liga','Proteção contra linhas'}\n",
    "\n",
    "acessorios_harley = {'Suporte para Dogs','Rodas de corrida'}\n"
   ]
  },
  {
   "cell_type": "code",
   "execution_count": 24,
   "metadata": {},
   "outputs": [
    {
     "data": {
      "text/plain": [
       "False"
      ]
     },
     "execution_count": 24,
     "metadata": {},
     "output_type": "execute_result"
    }
   ],
   "source": [
    "# Disjunção\n",
    "\n",
    "# Verifica se os conjuntos são disjuntos\n",
    "\n",
    "set.isdisjoint(acessorios_honda,acessorios_kawasaki)"
   ]
  },
  {
   "cell_type": "code",
   "execution_count": 31,
   "metadata": {},
   "outputs": [
    {
     "data": {
      "text/plain": [
       "set()"
      ]
     },
     "execution_count": 31,
     "metadata": {},
     "output_type": "execute_result"
    }
   ],
   "source": [
    "# Interseção\n",
    "\n",
    "# Ela verifica quais elementos dentre os conjuntos são iguais\n",
    "\n",
    "set.intersection(acessorios_honda,acessorios_harley,acessorios_kawasaki)\n"
   ]
  },
  {
   "cell_type": "code",
   "execution_count": 33,
   "metadata": {},
   "outputs": [
    {
     "data": {
      "text/plain": [
       "{'Banco de couro',\n",
       " 'Painel Multimidia',\n",
       " 'Proteção contra linhas',\n",
       " 'Rodas Cromadas',\n",
       " 'Rodas de corrida',\n",
       " 'Rodas de liga',\n",
       " 'Suporte para Dogs'}"
      ]
     },
     "execution_count": 33,
     "metadata": {},
     "output_type": "execute_result"
    }
   ],
   "source": [
    "# União\n",
    "\n",
    "# Literalmente junta os dois sets | conjuntos\n",
    "\n",
    "# acessorios_honda | acessorios_harley\n",
    "\n",
    "# ele junta todos e adiciona\n",
    "set.union(acessorios_harley,acessorios_honda,acessorios_kawasaki,{'Banco de couro'})"
   ]
  },
  {
   "cell_type": "code",
   "execution_count": 35,
   "metadata": {},
   "outputs": [
    {
     "data": {
      "text/plain": [
       "{'Harley', 'Honda', 'Kawasaki', 'Yamaha'}"
      ]
     },
     "execution_count": 35,
     "metadata": {},
     "output_type": "execute_result"
    }
   ],
   "source": [
    "marca_motos\n",
    "\n",
    "# retorna true ou false = se refere se esse valor esta dentro da lista\n",
    "'Harley' in marca_motos"
   ]
  },
  {
   "cell_type": "code",
   "execution_count": 39,
   "metadata": {},
   "outputs": [],
   "source": [
    "elementos_set = set(range(1000))\n",
    "elementos_list = list(range(1000))\n",
    "elementos_tuple = tuple(range(1000))\n",
    "\n",
    "def verificar_elemento_in(elemento_iteravel):\n",
    "    \"\"\"verifica se cada número no intervalo especificado pertence ao iteravel `elemento_iteravel`\"\"\"\n",
    "\n",
    "    for i in range(1000):\n",
    "        if i in elemento_iteravel:\n",
    "            pass"
   ]
  },
  {
   "cell_type": "code",
   "execution_count": 77,
   "metadata": {},
   "outputs": [
    {
     "name": "stdout",
     "output_type": "stream",
     "text": [
      "Tempo de execução set: \n",
      "CPU times: total: 0 ns\n",
      "Wall time: 1.04 ms\n",
      "==============================\n",
      "Tempo de execução lista: \n",
      "CPU times: total: 15.6 ms\n",
      "Wall time: 11.6 ms\n",
      "==============================\n",
      "Tempo de execução lista: \n",
      "CPU times: total: 0 ns\n",
      "Wall time: 13.5 ms\n",
      "==============================\n"
     ]
    }
   ],
   "source": [
    "print('Tempo de execução set: ')\n",
    "%time verificar_elemento_in(elementos_set)\n",
    "print(\"=\"*30)\n",
    "\n",
    "\n",
    "print(\"Tempo de execução lista: \")\n",
    "%time verificar_elemento_in(elementos_list)\n",
    "print(\"=\"*30)\n",
    "\n",
    "print(\"Tempo de execução lista: \")\n",
    "%time verificar_elemento_in(elementos_tuple)\n",
    "print(\"=\"*30)"
   ]
  }
 ],
 "metadata": {
  "kernelspec": {
   "display_name": "Python 3",
   "language": "python",
   "name": "python3"
  },
  "language_info": {
   "codemirror_mode": {
    "name": "ipython",
    "version": 3
   },
   "file_extension": ".py",
   "mimetype": "text/x-python",
   "name": "python",
   "nbconvert_exporter": "python",
   "pygments_lexer": "ipython3",
   "version": "3.12.7"
  }
 },
 "nbformat": 4,
 "nbformat_minor": 2
}
