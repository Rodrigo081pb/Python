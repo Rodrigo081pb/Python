{
 "cells": [
  {
   "cell_type": "code",
   "execution_count": 12,
   "metadata": {},
   "outputs": [],
   "source": [
    "# Biblioteca para visualização de dados - matplotlib\n",
    "# eu instalei através dp píp install matplotlib porém existe a forma de baixar uma versão específica assim !pip install matplotlib==3.6.2"
   ]
  },
  {
   "cell_type": "code",
   "execution_count": 13,
   "metadata": {},
   "outputs": [],
   "source": [
    "# Importando a biblioteca\n",
    "\n",
    "# sem alias\n",
    "# import matplotlib\n",
    "\n",
    "# com alias\n",
    "import matplotlib.pyplot as plt"
   ]
  },
  {
   "cell_type": "code",
   "execution_count": 14,
   "metadata": {},
   "outputs": [],
   "source": [
    "# Exemplo \n",
    "\n",
    "estudantes = [\"João\",\"Rodrigo\",\"Maria\"]\n",
    "notas = [10,9,5.4]"
   ]
  },
  {
   "cell_type": "code",
   "execution_count": 15,
   "metadata": {},
   "outputs": [
    {
     "data": {
      "text/plain": [
       "<BarContainer object of 3 artists>"
      ]
     },
     "execution_count": 15,
     "metadata": {},
     "output_type": "execute_result"
    },
    {
     "data": {
      "image/png": "[encoded data removed]",
      "text/plain": [
       "<Figure size 640x480 with 1 Axes>"
      ]
     },
     "metadata": {},
     "output_type": "display_data"
    }
   ],
   "source": [
    "plt.bar(x = estudantes, height = notas)"
   ]
  },
  {
   "cell_type": "code",
   "execution_count": 16,
   "metadata": {},
   "outputs": [],
   "source": [
    "# Utilizar números aleátorios\n",
    "\n",
    "estudantes_2 = [\"Kaio\",\"Arthur\",\"Alana\"]"
   ]
  },
  {
   "cell_type": "code",
   "execution_count": 19,
   "metadata": {},
   "outputs": [],
   "source": [
    "# Importando uma função específica de uma biblioteca\n",
    "\n",
    "from random import choice"
   ]
  },
  {
   "cell_type": "code",
   "execution_count": 41,
   "metadata": {},
   "outputs": [
    {
     "data": {
      "text/plain": [
       "'Kaio'"
      ]
     },
     "execution_count": 41,
     "metadata": {},
     "output_type": "execute_result"
    }
   ],
   "source": [
    "estudante = choice(estudantes_2)\n",
    "estudante"
   ]
  },
  {
   "cell_type": "code",
   "execution_count": 43,
   "metadata": {},
   "outputs": [
    {
     "name": "stdout",
     "output_type": "stream",
     "text": [
      "1 elevado a 1 é igual a 1.0\n",
      "O número sorteado foi 1\n",
      "Olá, rodrigo, o seu token de acesso é 4442! Seja bem-vindo(a)!\n"
     ]
    }
   ],
   "source": [
    "# Atividades\n",
    "\n",
    "# pip install matplotlib==3.7.1\n",
    "\n",
    "# import numpy as nb \n",
    "\n",
    "lista = [8, 12, 54, 23, 43, 1, 90, 87, 105, 77]\n",
    "\n",
    "lista = choice(lista)\n",
    "lista\n",
    "\n",
    "from random import randrange\n",
    "\n",
    "randrange(100)\n",
    "\n",
    "from math import pow\n",
    "\n",
    "base = int(input(\"Digite a base da potência: \"))\n",
    "expoente = int(input(\"Digite o expoente da potência: \"))\n",
    "print(f\"{base} elevado a {expoente} é igual a {pow(base, expoente)}\")\n",
    "\n",
    "from random import randint\n",
    "# Transformando a quantidade de participantes de string para inteiro\n",
    "n = int(input(\"Digite o nº de participantes do sorteio: \"))\n",
    "# Sorteando um número no intervalo de 1 até a quantidade de participantes\n",
    "print(f\"O número sorteado foi {randint(1, n)}\")\n",
    "\n",
    "\n",
    "from random import randrange\n",
    "\n",
    "nome = input(\"Qual o seu nome? \")\n",
    "# Gerando um token par de 1000 a 9998. O randrange tem o intervalo aberto em 10000, ou seja,\n",
    "# não considera 10000 como opção de escolha (token >= 1000 e token < 10000)\n",
    "token = randrange(1000, 10000, 2)\n",
    "\n",
    "print(f\"Olá, {nome}, o seu token de acesso é {token}! Seja bem-vindo(a)!\")\n",
    "\n",
    "from random import choices\n",
    "\n",
    "# Lista das frutas disponíveis\n",
    "frutas = [\"maçã\", \"banana\", \"uva\", \"pêra\",\"manga\", \"coco\", \n",
    "          \"melancia\", \"mamão\", \"laranja\", \"abacaxi\", \"kiwi\", \"ameixa\"]\n",
    "\n",
    "# Gerando uma lista com a escolha aleatoria de 3 frutas \n",
    "salada = choices(frutas, k=3)\n",
    "\n",
    "# Imprimindo os itens da lista de frutas gerada\n",
    "print(f\"A salada surpresa é: {salada[0]}, {salada[1]} e {salada[2]}\")\n",
    "\n",
    "from math import sqrt\n",
    "\n",
    "numeros = [2, 8, 15, 23, 91, 112, 256]\n",
    "# iniciando uma lista vazia para receber as raízes\n",
    "raiz = []\n",
    "\n",
    "# laço for para calcular cada raiz da lista de números e adicionar a lista raiz\n",
    "for numero in numeros:\n",
    "  raiz.append(sqrt(numero))\n",
    "\n",
    "# laço for para ler a lista raiz e exibir um texto só quando a raiz for um valor inteiro \n",
    "for i in range(len(raiz)):\n",
    "  # condição para testar se um número é inteiro (Ex: 2.5 // 1 = 2 ... 2 != 2.5)\n",
    "  if raiz[i] // 1 == raiz[i]:\n",
    "    print(f\"O número {numeros[i]} possui raiz quadrada inteira igual a {int(raiz[i])}\")\n",
    "\n",
    "    # importando 2 métodos da mesma biblioteca\n",
    "from math import pi, pow\n",
    "\n",
    "raio = float(input(\"Digite o raio da área circular em metros: \"))\n",
    "# Cálculo da área com os métodos da math e obtenção do custo em reais\n",
    "area = pi*pow(raio,2)\n",
    "valor = area * 25.00\n",
    "\n",
    "# Exibição do cálculo e custo na tela. O round(n,2) arredonda qualquer número em 2 casas decimais\n",
    "print(f\"Você precisará pagar R$ {round(valor,2)} por uma área de {round(area,2)} metros de grama\")"
   ]
  }
 ],
 "metadata": {
  "kernelspec": {
   "display_name": "Python 3",
   "language": "python",
   "name": "python3"
  },
  "language_info": {
   "codemirror_mode": {
    "name": "ipython",
    "version": 3
   },
   "file_extension": ".py",
   "mimetype": "text/x-python",
   "name": "python",
   "nbconvert_exporter": "python",
   "pygments_lexer": "ipython3",
   "version": "3.12.7"
  }
 },
 "nbformat": 4,
 "nbformat_minor": 2
}
