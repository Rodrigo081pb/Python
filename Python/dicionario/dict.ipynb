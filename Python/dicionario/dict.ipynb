{
 "cells": [
  {
   "cell_type": "code",
   "execution_count": 9,
   "metadata": {},
   "outputs": [],
   "source": [
    "lista = [\n",
    "        [(\"Kauã\", \"Rodrigo\")],\n",
    "        [[8.0,10]],\n",
    "        [[\"Aprovado\",\"Aprovado\"]]\n",
    "        ]\n",
    "\n",
    "coluna = [\"Notas\", \"Média Final\", \"Situação\"]\n",
    "\n",
    "cadastro = {coluna[i]: lista[i] for i in range(len(coluna))}\n",
    "\n"
   ]
  },
  {
   "cell_type": "code",
   "execution_count": 10,
   "metadata": {},
   "outputs": [
    {
     "data": {
      "text/plain": [
       "{'Notas': [('Kauã', 'Rodrigo')],\n",
       " 'Média Final': [[8.0, 10]],\n",
       " 'Situação': [['Aprovado', 'Aprovado']]}"
      ]
     },
     "execution_count": 10,
     "metadata": {},
     "output_type": "execute_result"
    }
   ],
   "source": [
    "cadastro"
   ]
  },
  {
   "cell_type": "code",
   "execution_count": 15,
   "metadata": {},
   "outputs": [],
   "source": [
    "# Adicionar nomes\n",
    "\n",
    "cadastro[\"Estudante\"] = [lista[0][i][0] for i in range(len(lista[0]))]"
   ]
  },
  {
   "cell_type": "code",
   "execution_count": 16,
   "metadata": {},
   "outputs": [
    {
     "data": {
      "text/plain": [
       "{'Notas': [('Kauã', 'Rodrigo')],\n",
       " 'Média Final': [[8.0, 10]],\n",
       " 'Situação': [['Aprovado', 'Aprovado']],\n",
       " 'Estudante': ['Kauã']}"
      ]
     },
     "execution_count": 16,
     "metadata": {},
     "output_type": "execute_result"
    }
   ],
   "source": [
    "cadastro"
   ]
  }
 ],
 "metadata": {
  "kernelspec": {
   "display_name": "Python 3",
   "language": "python",
   "name": "python3"
  },
  "language_info": {
   "codemirror_mode": {
    "name": "ipython",
    "version": 3
   },
   "file_extension": ".py",
   "mimetype": "text/x-python",
   "name": "python",
   "nbconvert_exporter": "python",
   "pygments_lexer": "ipython3",
   "version": "3.12.7"
  }
 },
 "nbformat": 4,
 "nbformat_minor": 2
}
