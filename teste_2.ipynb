{
 "cells": [
  {
   "cell_type": "code",
   "execution_count": null,
   "metadata": {},
   "outputs": [],
   "source": [
    "import requests\n",
    "from requests.packages.urllib3.exceptions import InsecureRequestWarning\n",
    "from urllib.parse import urljoin\n",
    "from bs4 import BeautifulSoup\n",
    "\n",
    "# Desabilitar os avisos de segurança sobre certificados SSL\n",
    "requests.packages.urllib3.disable_warnings(InsecureRequestWarning)\n",
    "\n",
    "# Criar uma sessão para manter a conexão\n",
    "s = requests.Session()\n",
    "\n",
    "# URL base\n",
    "base_url = \"https://pje.cloud.tjpe.jus.br\"\n",
    "\n",
    "# URL inicial (página de consulta pública)\n",
    "url = f\"{base_url}/1g/ConsultaPublica/listView.seam\"\n",
    "\n",
    "payload = {\n",
    "    \"AJAXREQUEST\": \"j_id130\",\n",
    "    \"j_id131\": \"j_id131\",\n",
    "    \"autoScroll\": \"\",\n",
    "    \"javax.faces.ViewState\": \"j_id1\",\n",
    "    \"j_id131:j_id133\": \"j_id131:j_id133\",\n",
    "    \"ajaxSingle\": \"j_id131:j_id133\",\n",
    "    \"AJAX:EVENTS_COUNT\": \"1\"\n",
    "}\n",
    "\n",
    "# Fazendo a requisição POST\n",
    "response = s.post(url, data=payload, verify=False, allow_redirects=False)\n",
    "\n",
    "\n",
    "# URL do site\n",
    "url = \"https://pje.cloud.tjpe.jus.br/1g/ConsultaPublica/DetalheProcessoConsultaPublica/listView.seam?ca=7e5f64e9e23f50085a0b043361a69efa86b0dc9ad12445ce\"\n",
    "\n",
    "# Cabeçalhos HTTP que simulam um navegador\n",
    "headers = {\n",
    "    \"User-Agent\": \"Mozilla/5.0 (Windows NT 10.0; Win64; x64) AppleWebKit/537.36 (KHTML, like Gecko) Chrome/110.0.5481.177 Safari/537.36\",\n",
    "    \"Accept-Language\": \"en-US,en;q=0.9\",\n",
    "    \"Accept-Encoding\": \"gzip, deflate, br\",\n",
    "    \"Connection\": \"keep-alive\",\n",
    "}\n",
    "\n",
    "# Enviar uma requisição GET\n",
    "response = requests.get(url, headers=headers)\n",
    "# Supondo que o valor de 'ca' é extraído corretamente\n",
    "\n",
    "# Exemplo: Extraído do html que foi do response\n",
    "ca_value = \"ca=7e5f64e9e23f50085a0b043361a69efa86b0dc9ad12445ce\"\n",
    "\n",
    "print(response.text)\n",
    "\n",
    "\n",
    "    \n"
   ]
  }
 ],
 "metadata": {
  "kernelspec": {
   "display_name": "Python 3",
   "language": "python",
   "name": "python3"
  },
  "language_info": {
   "codemirror_mode": {
    "name": "ipython",
    "version": 3
   },
   "file_extension": ".py",
   "mimetype": "text/x-python",
   "name": "python",
   "nbconvert_exporter": "python",
   "pygments_lexer": "ipython3",
   "version": "3.12.4"
  }
 },
 "nbformat": 4,
 "nbformat_minor": 2
}
