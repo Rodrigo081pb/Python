{
 "cells": [
  {
   "cell_type": "code",
   "execution_count": 23,
   "metadata": {},
   "outputs": [
    {
     "name": "stdout",
     "output_type": "stream",
     "text": [
      "Hello World\n"
     ]
    }
   ],
   "source": [
    "print('Hello World')"
   ]
  },
  {
   "cell_type": "code",
   "execution_count": 24,
   "metadata": {},
   "outputs": [
    {
     "name": "stdout",
     "output_type": "stream",
     "text": [
      "Escola de Dados da Alura!\n"
     ]
    }
   ],
   "source": [
    "print(\"Escola de Dados da Alura!\")"
   ]
  },
  {
   "cell_type": "code",
   "execution_count": 25,
   "metadata": {},
   "outputs": [
    {
     "name": "stdout",
     "output_type": "stream",
     "text": [
      "Nome: [seu nome]\n",
      "Sobrenome: [seu sobrenome]\n"
     ]
    }
   ],
   "source": [
    "print('Nome: [seu nome]')\n",
    "print('Sobrenome: [seu sobrenome]')"
   ]
  },
  {
   "cell_type": "code",
   "execution_count": 26,
   "metadata": {},
   "outputs": [
    {
     "name": "stdout",
     "output_type": "stream",
     "text": [
      "Meu nome é Kauã Rodrigo\n"
     ]
    }
   ],
   "source": [
    "nome = 'Kauã'\n",
    "sobrenome = 'Rodrigo'\n",
    "\n",
    "print('Meu nome é '+nome +' '+ sobrenome)"
   ]
  },
  {
   "cell_type": "code",
   "execution_count": 2,
   "metadata": {},
   "outputs": [
    {
     "name": "stdout",
     "output_type": "stream",
     "text": [
      "Olá Rodrigo você tem 20 anos e 1.83 de altura\n"
     ]
    }
   ],
   "source": [
    "# Teste prático\n",
    "\n",
    "nome_usuario = input(\"Digite seu nome: \")\n",
    "idade_usuario = int(input(\"Digite sua idade:  \"))\n",
    "altura_usuario = float(input(\"Digite sua altura:  \"))\n",
    "\n",
    "\n",
    "print(f'Olá {nome_usuario} você tem {idade_usuario} anos e {altura_usuario} de altura')"
   ]
  },
  {
   "cell_type": "code",
   "execution_count": 1,
   "metadata": {},
   "outputs": [
    {
     "name": "stdout",
     "output_type": "stream",
     "text": [
      "O resultado da soma foi 4\n"
     ]
    }
   ],
   "source": [
    "# Atividade \n",
    "\n",
    "num1 = int(input(\"Digite um número: \"))\n",
    "num2 = int(input(\"Digite outro número: \"))\n",
    "\n",
    "resultado = num1 + num2\n",
    "print(f'O resultado da soma foi {resultado}')"
   ]
  },
  {
   "cell_type": "code",
   "execution_count": 3,
   "metadata": {},
   "outputs": [
    {
     "name": "stdout",
     "output_type": "stream",
     "text": [
      "O resultado da soma foi 15\n"
     ]
    }
   ],
   "source": [
    "num1 = int(input(\"Digite um número: \"))\n",
    "num2 = int(input(\"Digite outro número: \"))\n",
    "num3 = int(input(\"Digite outro número: \"))\n",
    "\n",
    "resultado = num1 + num2 + num3\n",
    "print(f'O resultado da soma foi {resultado}')"
   ]
  },
  {
   "cell_type": "code",
   "execution_count": 4,
   "metadata": {},
   "outputs": [
    {
     "name": "stdout",
     "output_type": "stream",
     "text": [
      "O resultado da subtração foi 5\n"
     ]
    }
   ],
   "source": [
    "num1 = int(input(\"Digite um número: \"))\n",
    "num2 = int(input(\"Digite outro número: \"))\n",
    "\n",
    "resultado = num1 - num2\n",
    "print(f'O resultado da subtração foi {resultado}')"
   ]
  },
  {
   "cell_type": "code",
   "execution_count": 8,
   "metadata": {},
   "outputs": [
    {
     "name": "stdout",
     "output_type": "stream",
     "text": [
      "O Resultado da divisão foi 2.0\n"
     ]
    }
   ],
   "source": [
    "num1 = int(input(\"Digite um número: \"))\n",
    "num2 = int(input(\"Digite outro número: \"))\n",
    "\n",
    "resultado = num1/num2\n",
    "if (num2==0):\n",
    "    print('O denominador não pode ser 0')\n",
    "else:\n",
    "    print(f'O Resultado da divisão foi {resultado}')"
   ]
  },
  {
   "cell_type": "code",
   "execution_count": 10,
   "metadata": {},
   "outputs": [
    {
     "name": "stdout",
     "output_type": "stream",
     "text": [
      "O resultado foi 4\n"
     ]
    }
   ],
   "source": [
    "num1 = int(input(\"Digite um número: \"))\n",
    "num2 = int(input(\"Digite outro número: \"))\n",
    "\n",
    "resultado = num1 ** num2\n",
    "print(f'O resultado foi {resultado}')"
   ]
  },
  {
   "cell_type": "code",
   "execution_count": 13,
   "metadata": {},
   "outputs": [
    {
     "name": "stdout",
     "output_type": "stream",
     "text": [
      "O denominador não pode ser 0\n"
     ]
    }
   ],
   "source": [
    "num1 = int(input(\"Digite um número: \")) # Numerador\n",
    "num2 = int(input(\"Digite outro número: \")) # Denominador\n",
    "\n",
    "resultado = num1 / num2\n",
    "if(num2 == 0):\n",
    "    print(\"O denominador não pode ser 0\")\n",
    "else:\n",
    "    print(f'O resultado foi {resultado}')"
   ]
  },
  {
   "cell_type": "code",
   "execution_count": 15,
   "metadata": {},
   "outputs": [
    {
     "name": "stdout",
     "output_type": "stream",
     "text": [
      "O resto da divisão é 5.5\n"
     ]
    }
   ],
   "source": [
    "num1 = float(input(\"Digite um número: \")) # Numerador\n",
    "num2 = float(input(\"Digite outro número: \")) # Denominador\n",
    "\n",
    "if num2 == 0:\n",
    "    print(\"O denominador não pode ser 0\")\n",
    "else:\n",
    "    resto = num1 % num2\n",
    "    print(\"O resto da divisão é\",resto)"
   ]
  },
  {
   "cell_type": "code",
   "execution_count": 3,
   "metadata": {},
   "outputs": [
    {
     "name": "stdout",
     "output_type": "stream",
     "text": [
      "O número 9 é maior que o 3\n"
     ]
    }
   ],
   "source": [
    "# Desafios\n",
    "\n",
    "num1 = int(input(\"Digite um número: \"))\n",
    "num2 = int(input(\"Digite outro número: \"))\n",
    "\n",
    "if (num1 > num2):\n",
    "    print(f'O número {num1} é maior que o {num2}')\n",
    "elif (num1 < num2):\n",
    "    print(f'O número {num2} é maior que o {num1}')\n",
    "else:\n",
    "    print(\"Os dois são iguais\")\n",
    "     "
   ]
  },
  {
   "cell_type": "code",
   "execution_count": 10,
   "metadata": {},
   "outputs": [
    {
     "name": "stdout",
     "output_type": "stream",
     "text": [
      "Sua empresa não teve nem baixa nem alta continua a mesma coisa \n"
     ]
    }
   ],
   "source": [
    "porcentagem_fixa = float(50.0)\n",
    "\n",
    "porcentagem_producao = float(input(\"Me diga o percentual de produção da sua empresa: \"))\n",
    "\n",
    "if(porcentagem_producao < porcentagem_fixa):\n",
    "    print(f'Sua empresa está em decrescimento')\n",
    "elif(porcentagem_producao > porcentagem_fixa):\n",
    "    print(f'Sua empresa está em crescimento')\n",
    "else:\n",
    "    print(\"Sua empresa não teve nem baixa nem alta continua a mesma coisa \")"
   ]
  },
  {
   "cell_type": "code",
   "execution_count": 17,
   "metadata": {},
   "outputs": [
    {
     "name": "stdout",
     "output_type": "stream",
     "text": [
      "Sua letra é uma vogal\n"
     ]
    }
   ],
   "source": [
    "vogais = ('a', 'e', 'i', 'o', 'u')\n",
    "\n",
    "letra = str(input('Digite uma letra: ')).lower()  # Para garantir que a letra esteja em minúsculas\n",
    "\n",
    "if letra in vogais:\n",
    "    print(f'Sua letra é uma vogal')\n",
    "else:\n",
    "    print(f'Sua letra é uma consoante')"
   ]
  },
  {
   "cell_type": "code",
   "execution_count": null,
   "metadata": {},
   "outputs": [],
   "source": [
    "# Coletamos os preços dos 3 anos\n",
    "preco_ano1 = float(input('Informe o preço médio do carro no primeiro ano: '))\n",
    "preco_ano2 = float(input('Informe o preço médio do carro no segundo ano: '))\n",
    "preco_ano3 = float(input('Informe o preço médio do carro no terceiro ano: '))\n",
    "\n",
    "# Determinamos o maior valor através de comparações\n",
    "maior = preco_ano1\n",
    "if preco_ano2 > maior:\n",
    "  maior = preco_ano2\n",
    "if preco_ano3 > maior:\n",
    "  maior = preco_ano3\n",
    "\n",
    "# Determinamos o menor valor através de comparações\n",
    "menor = preco_ano1\n",
    "if preco_ano2 < menor:\n",
    "  menor = preco_ano2\n",
    "if preco_ano3 < menor:\n",
    "  menor = preco_ano3\n",
    "\n",
    "# Mostramos o resultado\n",
    "print(f'O preço mais alto foi de R$ {maior}.')\n",
    "print(f'O preço mais baixo foi de R$ {menor}.')"
   ]
  },
  {
   "cell_type": "code",
   "execution_count": null,
   "metadata": {},
   "outputs": [],
   "source": [
    "# Coletamos os preços dos três produtos\n",
    "p1 = float(input('Digite o preço do primeiro produto: '))\n",
    "p2 = float(input('Digite o preço do segundo produto: '))\n",
    "p3 = float(input('Digite o preço do terceiro produto: '))\n",
    "\n",
    "# Verificamos qual produto é o mais barato usando o operador lógico 'and'\n",
    "if p1 < p2 and p1 < p3:\n",
    "    print('O primeiro produto é o mais barato.')\n",
    "elif p2 < p1 and p2 < p3:\n",
    "    print('O segundo produto é o mais barato.')\n",
    "elif p3 < p1 and p3 < p2:\n",
    "    print('O terceiro produto é o mais barato.')\n",
    "elif p1 == p2 == p3:\n",
    "    print('Os produtos possuem o mesmo preço.')\n",
    "else:\n",
    "    # Identificamos quais produtos possuem o mesmo preço, se for o caso\n",
    "    if p1 == p2:\n",
    "        print('O primeiro e o segundo produtos são os mais baratos.')\n",
    "    elif p2 == p3:\n",
    "        print('O segundo e terceiro produtos são os mais baratos.')\n",
    "    elif p1 == p3:\n",
    "        print('O primeiro e o terceiro produtos são os mais baratos.')"
   ]
  },
  {
   "cell_type": "code",
   "execution_count": null,
   "metadata": {},
   "outputs": [],
   "source": [
    "# Coletamos os 3 números\n",
    "num1 = int(input('Informe o primeiro número: '))\n",
    "num2 = int(input('Informe o segundo número: '))\n",
    "num3 = int(input('Informe o terceiro número: '))\n",
    "\n",
    "# Comparação entre os 3 números\n",
    "if (num1 >= num2) and (num1 >= num3):\n",
    "    print(num1)\n",
    "    if num2 >= num3:\n",
    "        print(num2)\n",
    "        print(num3)\n",
    "    else:\n",
    "        print(num3)\n",
    "        print(num2)\n",
    "elif (num2 >= num1) and (num2 >= num3):\n",
    "    print(num2)\n",
    "    if num1 >= num3:\n",
    "        print(num1)\n",
    "        print(num3)\n",
    "    else:\n",
    "        print(num3)\n",
    "        print(num1)\n",
    "else:\n",
    "    print(num3)\n",
    "    if num1 >= num2:\n",
    "        print(num1)\n",
    "        print(num2)\n",
    "    else:\n",
    "        print(num2)\n",
    "        print(num1)"
   ]
  },
  {
   "cell_type": "code",
   "execution_count": null,
   "metadata": {},
   "outputs": [],
   "source": [
    "# Coletamos o turno de estudo\n",
    "turno = input('Digite em qual turno você estuda (manhã, tarde ou noite): ')\n",
    "\n",
    "# Comparamos a entrada com todas as opções e imprimimos o resultado.\n",
    "if turno == 'manhã':\n",
    "  print('Bom Dia!')\n",
    "elif turno == 'tarde':\n",
    "  print('Boa Tarde!')\n",
    "elif turno == 'noite':\n",
    "  print('Boa Noite!')\n",
    "else:\n",
    "  print('Valor Inválido!')"
   ]
  },
  {
   "cell_type": "code",
   "execution_count": null,
   "metadata": {},
   "outputs": [],
   "source": [
    "# Coletamos os dados\n",
    "num = int(input('Digite um número: '))\n",
    "\n",
    "# Verificamos se o número é par através do resultado do módulo\n",
    "if num % 2 == 0:\n",
    "    print('O número é par.')\n",
    "else:\n",
    "    print('O número é ímpar.')"
   ]
  },
  {
   "cell_type": "code",
   "execution_count": null,
   "metadata": {},
   "outputs": [],
   "source": [
    "# Coletamos os números a serem operados e solicitamos a operação desejada pela pessoa usuária\n",
    "num1 = float(input('Informe o primeiro número: '))\n",
    "num2 = float(input('Informe o segundo número: '))\n",
    "operacao = input('Informe a operação desejada (+, -, *, /): ')\n",
    "\n",
    "# Verificamos o operador que foi selecionado e executa a operação matemática conforme a seleção\n",
    "if operacao == '+':\n",
    "    resultado = num1 + num2\n",
    "elif operacao == '-':\n",
    "    resultado = num1 - num2\n",
    "elif operacao == '*':\n",
    "    resultado = num1 * num2\n",
    "elif operacao == '/':\n",
    "    resultado = num1 / num2\n",
    "else: # Especificamos um resultado caso a pessoa usuária não digite alguma das operações corretamente.\n",
    "    print('Operação inválida, resultado da operação será 0')\n",
    "    resultado = 0 \n",
    "\n",
    "#  Fazemos as mesmas verificações das questões anteriores para fazer o relatório do cálculo entre números\n",
    "if resultado % 1 == 0:\n",
    "    print('O resultado é inteiro.')\n",
    "else:\n",
    "    print('O resultado é decimal.')\n",
    "\n",
    "if resultado > 0:\n",
    "    print('O resultado é positivo.')\n",
    "elif resultado == 0:\n",
    "    print('O resultado é neutro.')\n",
    "else:\n",
    "    print('O resultado é negativo.')\n",
    "\n",
    "if resultado % 2 == 0:\n",
    "    print('O resultado é par.')\n",
    "else:\n",
    "    print('O resultado é ímpar.')"
   ]
  },
  {
   "cell_type": "code",
   "execution_count": null,
   "metadata": {},
   "outputs": [],
   "source": [
    "# Coletamos os lados de um triângulo\n",
    "print('Coletaremos os lados de um triângulo.')\n",
    "lado1 = float(input('Digite o comprimento do primeiro lado: '))\n",
    "lado2 = float(input('Digite o comprimento do segundo lado: '))\n",
    "lado3 = float(input('Digite o comprimento do terceiro lado: '))\n",
    "\n",
    "# Verificamos de os lados formam um triângulo\n",
    "if (lado1 + lado2 > lado3) and (lado2 + lado3 > lado1) and (lado1 + lado3 > lado2):\n",
    "    print('Os valores podem formar um triângulo!')\n",
    "    # comparamos os lados para verificar o tipo de triângulo\n",
    "    if (lado1 == lado2) and (lado2 == lado3):\n",
    "        print('O triângulo é equilátero.')\n",
    "    elif (lado1 != lado2) and (lado2 != lado3) and (lado1 != lado3):\n",
    "        print('O triângulo é escaleno.')\n",
    "    else:\n",
    "        print('O triângulo é isósceles.')\n",
    "else:\n",
    "    print('Os valores não podem formar um triângulo!')"
   ]
  },
  {
   "cell_type": "code",
   "execution_count": null,
   "metadata": {},
   "outputs": [],
   "source": [
    "# Coletamos a quantidade de litros e o tipo de combustível,\n",
    "# já deixando o caractere em maiúsculo para facilitar nossa análise\n",
    "quantidade_litros = float(input('Informe a quantidade de litros vendidos: '))\n",
    "tipo_combustivel = input('Informe o tipo de combustível (E para etanol e D para diesel): ').upper()\n",
    "\n",
    "#  Verificamos primeiro o tipo de combustível\n",
    "if tipo_combustivel == 'E':\n",
    "  # Taxamos o valor do preço em litros do etanol\n",
    "  preco_litro = 1.70\n",
    "  # De acordo com o valor da quantidade de litros, taxamos também o desconto\n",
    "  if quantidade_litros <= 15:\n",
    "    desconto = 0.02\n",
    "  else:\n",
    "    desconto = 0.04\n",
    "elif tipo_combustivel == 'D':\n",
    "  # Taxamos o valor do preço em litros do disel\n",
    "  preco_litro = 2.00\n",
    "  # De acordo com o valor da quantidade de litros, taxamos também o desconto\n",
    "  if quantidade_litros <= 15:\n",
    "    desconto = 0.03\n",
    "  else:\n",
    "    desconto = 0.05\n",
    "# Caso ocorra um erro na especificação de tipo de combustível,\n",
    "# consideramos entradas inválidas, e os preços são taxados em 0\n",
    "else:\n",
    "    print('Entradas inválidas!')\n",
    "    preco_litro = 0\n",
    "    desconto = 0\n",
    "\n",
    "# Fazemos o cálculo do valor de desconto, seguido do cálculo do preço descontado\n",
    "valor_desconto = preco_litro * quantidade_litros * desconto\n",
    "valor_pago = preco_litro * quantidade_litros - valor_desconto\n",
    "\n",
    "# Resultado\n",
    "print(f'Valor a ser pago pelo cliente: R$ {valor_pago}')"
   ]
  },
  {
   "cell_type": "code",
   "execution_count": null,
   "metadata": {},
   "outputs": [],
   "source": [
    "# Coletamos as vendas dos dois anos\n",
    "venda_2022 = float(input('Informe a quantidade de vendas em 2022: '))\n",
    "venda_2023 = float(input('Informe a quantidade de vendas em 2023: '))\n",
    "\n",
    "# Calculamos a variação percentual entre as vendas dos anos de 2022 e 2023\n",
    "var_percentual = 100 * (venda_2023 - venda_2022) / (venda_2022)\n",
    "\n",
    "# Análise condicional da variação percentual para determinar a sugestão a ser enviada\n",
    "if var_percentual > 20:\n",
    "    print('Bonificação para o time de vendas.')\n",
    "elif 2 <= var_percentual <= 20:\n",
    "    print('Pequena bonificação para time de vendas.')\n",
    "elif -10 <= var_percentual < 2:\n",
    "    print('Planejamento de políticas de incentivo às vendas.')\n",
    "else:\n",
    "    print('Corte de gastos.')"
   ]
  }
 ],
 "metadata": {
  "kernelspec": {
   "display_name": "Python 3",
   "language": "python",
   "name": "python3"
  },
  "language_info": {
   "codemirror_mode": {
    "name": "ipython",
    "version": 3
   },
   "file_extension": ".py",
   "mimetype": "text/x-python",
   "name": "python",
   "nbconvert_exporter": "python",
   "pygments_lexer": "ipython3",
   "version": "3.12.5"
  }
 },
 "nbformat": 4,
 "nbformat_minor": 2
}
