{
 "cells": [
  {
   "cell_type": "code",
   "execution_count": 23,
   "metadata": {},
   "outputs": [
    {
     "name": "stdout",
     "output_type": "stream",
     "text": [
      "Hello World\n"
     ]
    }
   ],
   "source": [
    "print('Hello World')"
   ]
  },
  {
   "cell_type": "code",
   "execution_count": 24,
   "metadata": {},
   "outputs": [
    {
     "name": "stdout",
     "output_type": "stream",
     "text": [
      "Escola de Dados da Alura!\n"
     ]
    }
   ],
   "source": [
    "print(\"Escola de Dados da Alura!\")"
   ]
  },
  {
   "cell_type": "code",
   "execution_count": 25,
   "metadata": {},
   "outputs": [
    {
     "name": "stdout",
     "output_type": "stream",
     "text": [
      "Nome: [seu nome]\n",
      "Sobrenome: [seu sobrenome]\n"
     ]
    }
   ],
   "source": [
    "print('Nome: [seu nome]')\n",
    "print('Sobrenome: [seu sobrenome]')"
   ]
  },
  {
   "cell_type": "code",
   "execution_count": 26,
   "metadata": {},
   "outputs": [
    {
     "name": "stdout",
     "output_type": "stream",
     "text": [
      "Meu nome é Kauã Rodrigo\n"
     ]
    }
   ],
   "source": [
    "nome = 'Kauã'\n",
    "sobrenome = 'Rodrigo'\n",
    "\n",
    "print('Meu nome é '+nome +' '+ sobrenome)"
   ]
  },
  {
   "cell_type": "code",
   "execution_count": 2,
   "metadata": {},
   "outputs": [
    {
     "name": "stdout",
     "output_type": "stream",
     "text": [
      "Olá Rodrigo você tem 20 anos e 1.83 de altura\n"
     ]
    }
   ],
   "source": [
    "# Teste prático\n",
    "\n",
    "nome_usuario = input(\"Digite seu nome: \")\n",
    "idade_usuario = int(input(\"Digite sua idade:  \"))\n",
    "altura_usuario = float(input(\"Digite sua altura:  \"))\n",
    "\n",
    "\n",
    "print(f'Olá {nome_usuario} você tem {idade_usuario} anos e {altura_usuario} de altura')"
   ]
  },
  {
   "cell_type": "code",
   "execution_count": 1,
   "metadata": {},
   "outputs": [
    {
     "name": "stdout",
     "output_type": "stream",
     "text": [
      "O resultado da soma foi 4\n"
     ]
    }
   ],
   "source": [
    "# Atividade \n",
    "\n",
    "num1 = int(input(\"Digite um número: \"))\n",
    "num2 = int(input(\"Digite outro número: \"))\n",
    "\n",
    "resultado = num1 + num2\n",
    "print(f'O resultado da soma foi {resultado}')"
   ]
  },
  {
   "cell_type": "code",
   "execution_count": 3,
   "metadata": {},
   "outputs": [
    {
     "name": "stdout",
     "output_type": "stream",
     "text": [
      "O resultado da soma foi 15\n"
     ]
    }
   ],
   "source": [
    "num1 = int(input(\"Digite um número: \"))\n",
    "num2 = int(input(\"Digite outro número: \"))\n",
    "num3 = int(input(\"Digite outro número: \"))\n",
    "\n",
    "resultado = num1 + num2 + num3\n",
    "print(f'O resultado da soma foi {resultado}')"
   ]
  },
  {
   "cell_type": "code",
   "execution_count": 4,
   "metadata": {},
   "outputs": [
    {
     "name": "stdout",
     "output_type": "stream",
     "text": [
      "O resultado da subtração foi 5\n"
     ]
    }
   ],
   "source": [
    "num1 = int(input(\"Digite um número: \"))\n",
    "num2 = int(input(\"Digite outro número: \"))\n",
    "\n",
    "resultado = num1 - num2\n",
    "print(f'O resultado da subtração foi {resultado}')"
   ]
  },
  {
   "cell_type": "code",
   "execution_count": 8,
   "metadata": {},
   "outputs": [
    {
     "name": "stdout",
     "output_type": "stream",
     "text": [
      "O Resultado da divisão foi 2.0\n"
     ]
    }
   ],
   "source": [
    "num1 = int(input(\"Digite um número: \"))\n",
    "num2 = int(input(\"Digite outro número: \"))\n",
    "\n",
    "resultado = num1/num2\n",
    "if (num2==0):\n",
    "    print('O denominador não pode ser 0')\n",
    "else:\n",
    "    print(f'O Resultado da divisão foi {resultado}')"
   ]
  },
  {
   "cell_type": "code",
   "execution_count": 10,
   "metadata": {},
   "outputs": [
    {
     "name": "stdout",
     "output_type": "stream",
     "text": [
      "O resultado foi 4\n"
     ]
    }
   ],
   "source": [
    "num1 = int(input(\"Digite um número: \"))\n",
    "num2 = int(input(\"Digite outro número: \"))\n",
    "\n",
    "resultado = num1 ** num2\n",
    "print(f'O resultado foi {resultado}')"
   ]
  },
  {
   "cell_type": "code",
   "execution_count": 13,
   "metadata": {},
   "outputs": [
    {
     "name": "stdout",
     "output_type": "stream",
     "text": [
      "O denominador não pode ser 0\n"
     ]
    }
   ],
   "source": [
    "num1 = int(input(\"Digite um número: \")) # Numerador\n",
    "num2 = int(input(\"Digite outro número: \")) # Denominador\n",
    "\n",
    "resultado = num1 / num2\n",
    "if(num2 == 0):\n",
    "    print(\"O denominador não pode ser 0\")\n",
    "else:\n",
    "    print(f'O resultado foi {resultado}')"
   ]
  },
  {
   "cell_type": "code",
   "execution_count": 15,
   "metadata": {},
   "outputs": [
    {
     "name": "stdout",
     "output_type": "stream",
     "text": [
      "O resto da divisão é 5.5\n"
     ]
    }
   ],
   "source": [
    "num1 = float(input(\"Digite um número: \")) # Numerador\n",
    "num2 = float(input(\"Digite outro número: \")) # Denominador\n",
    "\n",
    "if num2 == 0:\n",
    "    print(\"O denominador não pode ser 0\")\n",
    "else:\n",
    "    resto = num1 % num2\n",
    "    print(\"O resto da divisão é\",resto)"
   ]
  }
 ],
 "metadata": {
  "kernelspec": {
   "display_name": "Python 3",
   "language": "python",
   "name": "python3"
  },
  "language_info": {
   "codemirror_mode": {
    "name": "ipython",
    "version": 3
   },
   "file_extension": ".py",
   "mimetype": "text/x-python",
   "name": "python",
   "nbconvert_exporter": "python",
   "pygments_lexer": "ipython3",
   "version": "3.12.5"
  }
 },
 "nbformat": 4,
 "nbformat_minor": 2
}
