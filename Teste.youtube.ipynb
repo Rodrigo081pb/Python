{
 "cells": [
  {
   "cell_type": "code",
   "execution_count": null,
   "metadata": {},
   "outputs": [],
   "source": [
    "import requests\n",
    "from bs4 import BeautifulSoup\n",
    "import pandas as pd\n",
    "from itertools import product\n",
    "\n",
    "# Código Principal\n",
    "\n",
    "Dominio = 'https://ibjjf.com'  # Corrigido para incluir '://'\n",
    "URL = f'{Dominio}/2024-athletes-ranking'\n",
    "HEADERS = {'User-Agent': 'Mozilla/5.0'}\n",
    "PARAMETERS = {\n",
    "    'utf8': '✓',\n",
    "    'filters[s]': 'ranking-geral-gi',\n",
    "    'filters[ranking_category]': 'adult',\n",
    "    'filters[gender]': 'male',\n",
    "    'filters[belt]': 'black',\n",
    "    'filters[weight]': None,  # Corrigido o nome do parâmetro\n",
    "    'page': 1\n",
    "}\n",
    "\n",
    "def get_page_content(url, headers, parameters):\n",
    "    response = requests.get(url, headers=headers, params=parameters).text\n",
    "    soup = BeautifulSoup(response, 'html.parser')\n",
    "    return soup\n",
    "\n",
    "# Obtendo o conteúdo da página\n",
    "pagina = get_page_content(URL, HEADERS, PARAMETERS)"
   ]
  },
  {
   "cell_type": "code",
   "execution_count": 178,
   "metadata": {},
   "outputs": [],
   "source": [
    "def parse_atletas(soup):\n",
    "    table = soup.find('table')\n",
    "    if not table:\n",
    "        return None\n",
    "    atletas = []\n",
    "    linhas = table.find_all('tr')\n",
    "    if not linhas:\n",
    "        return None\n",
    "    for linhas in linhas:\n",
    "        photo_cell = linhas.find('td', class_ = 'photo reduced')\n",
    "        name_cell = linhas.find('td', class_ = 'name-academy')\n",
    "        pontuacao_cell = linhas.find('td', class_ = 'pontuation')\n",
    "        ranking_cell = linhas.find('td', class_ = 'position')\n",
    "    \n",
    "        photo = photo_cell.find('img')['src']\n",
    "        name_tag = name_cell.find('div', class_ = 'name').find('a')\n",
    "        name = name_tag.get_text(strip = True)\n",
    "        detalhes = Dominio + name_tag['href']\n",
    "        pontuacao = pontuacao_cell.get_text(strip = True)\n",
    "        ranking = ranking_cell.get_text(strip = True)\n",
    "    \n",
    "    \n",
    "    atleta = {\n",
    "        \n",
    "        'photo' : photo,\n",
    "        'name': name,\n",
    "        'detalhes':detalhes,\n",
    "        'pontuacao': pontuacao,\n",
    "        'ranking': ranking\n",
    "    }\n",
    "    \n",
    "    atletas.append(atleta)\n",
    "    return atletas"
   ]
  },
  {
   "cell_type": "code",
   "execution_count": 182,
   "metadata": {},
   "outputs": [
    {
     "ename": "SyntaxError",
     "evalue": "invalid syntax (1136430194.py, line 4)",
     "output_type": "error",
     "traceback": [
      "\u001b[1;36m  Cell \u001b[1;32mIn[182], line 4\u001b[1;36m\u001b[0m\n\u001b[1;33m    while = true:\u001b[0m\n\u001b[1;37m          ^\u001b[0m\n\u001b[1;31mSyntaxError\u001b[0m\u001b[1;31m:\u001b[0m invalid syntax\n"
     ]
    }
   ],
   "source": [
    "page = 132\n",
    "all_atletas = []\n",
    "\n",
    "while = true:\n",
    "    print(page)\n",
    "    PARAMETERS['page'] = page\n",
    "    soup_atletas = get_page_content(URL, HEADERS, PARAMETERS)\n",
    "    atletas = parse_atletas(soup_atletas)\n",
    "    if atletas is None:\n",
    "        break\n",
    "    all_atletas.extend(atletas)\n",
    "    page += 1\n",
    "    print(atletas)\n",
    "    \n"
   ]
  }
 ],
 "metadata": {
  "kernelspec": {
   "display_name": "Python 3",
   "language": "python",
   "name": "python3"
  },
  "language_info": {
   "codemirror_mode": {
    "name": "ipython",
    "version": 3
   },
   "file_extension": ".py",
   "mimetype": "text/x-python",
   "name": "python",
   "nbconvert_exporter": "python",
   "pygments_lexer": "ipython3",
   "version": "3.12.4"
  }
 },
 "nbformat": 4,
 "nbformat_minor": 2
}
